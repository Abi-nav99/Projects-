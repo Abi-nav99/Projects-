{
 "metadata": {
  "language_info": {
   "codemirror_mode": {
    "name": "ipython",
    "version": 3
   },
   "file_extension": ".py",
   "mimetype": "text/x-python",
   "name": "python",
   "nbconvert_exporter": "python",
   "pygments_lexer": "ipython3",
   "version": "3.8.5-final"
  },
  "orig_nbformat": 2,
  "kernelspec": {
   "name": "python_defaultSpec_1600864977936",
   "display_name": "Python 3.8.5 64-bit"
  }
 },
 "nbformat": 4,
 "nbformat_minor": 2,
 "cells": [
  {
   "cell_type": "code",
   "execution_count": 1,
   "metadata": {},
   "outputs": [],
   "source": [
    "import tensorflow as tf \n",
    "from tensorflow.keras.preprocessing.text import Tokenizer\n",
    "from tensorflow.keras.preprocessing.sequence import pad_sequences\n",
    "import json"
   ]
  },
  {
   "cell_type": "code",
   "execution_count": 2,
   "metadata": {},
   "outputs": [],
   "source": [
    "vocab_size = 10000\n",
    "embedding_dim = 16\n",
    "max_length = 32\n",
    "trunc_type = 'post'\n",
    "oov_tok = \"<!@#>\"\n",
    "training_size = 20000 #27000 dataset size"
   ]
  },
  {
   "cell_type": "code",
   "execution_count": 7,
   "metadata": {},
   "outputs": [],
   "source": [
    "with open('Datasets/sarcasm.json','r') as f:\n",
    "    datastore = json.load(f)"
   ]
  },
  {
   "cell_type": "code",
   "execution_count": 8,
   "metadata": {},
   "outputs": [],
   "source": [
    "sentences = []\n",
    "labels = []"
   ]
  },
  {
   "cell_type": "code",
   "execution_count": 10,
   "metadata": {},
   "outputs": [],
   "source": [
    "for item in datastore:\n",
    "    sentences.append(item['headline'])\n",
    "    labels.append(item['is_sarcastic'])"
   ]
  },
  {
   "cell_type": "code",
   "execution_count": 11,
   "metadata": {},
   "outputs": [],
   "source": [
    "training_sentences = sentences[0:training_size]\n",
    "testing_sentences = sentences[training_size:]\n",
    "\n",
    "training_labels = labels[0:training_size]\n",
    "testing_labels = labels[training_size:]"
   ]
  },
  {
   "cell_type": "code",
   "execution_count": 37,
   "metadata": {},
   "outputs": [
    {
     "output_type": "execute_result",
     "data": {
      "text/plain": "6709"
     },
     "metadata": {},
     "execution_count": 37
    }
   ],
   "source": [
    "len(testing_sentences)"
   ]
  },
  {
   "cell_type": "code",
   "execution_count": 16,
   "metadata": {},
   "outputs": [],
   "source": [
    "tokenizer = Tokenizer(num_words= vocab_size, oov_token= oov_tok)\n",
    "tokenizer.fit_on_texts(training_sentences)\n",
    "\n",
    "word_index = tokenizer.word_index\n",
    "\n",
    "sequences = tokenizer.texts_to_sequences(training_sentences)\n",
    "padded = pad_sequences(sequences, truncating= trunc_type, maxlen = max_length)"
   ]
  },
  {
   "cell_type": "code",
   "execution_count": 19,
   "metadata": {},
   "outputs": [],
   "source": [
    "testing_sequences = tokenizer.texts_to_sequences(testing_sentences)\n",
    "testing_padded = pad_sequences(testing_sequences, maxlen = max_length, truncating = trunc_type)"
   ]
  },
  {
   "cell_type": "code",
   "execution_count": 25,
   "metadata": {},
   "outputs": [],
   "source": [
    "model = tf.keras.Sequential([\n",
    "    tf.keras.layers.Embedding(vocab_size, embedding_dim, input_length=max_length),\n",
    "    tf.keras.layers.GlobalAveragePooling1D(),\n",
    "    tf.keras.layers.Dense(24, activation='relu'),\n",
    "    tf.keras.layers.Dense(1, activation='sigmoid')\n",
    "])\n"
   ]
  },
  {
   "cell_type": "code",
   "execution_count": 30,
   "metadata": {
    "tags": []
   },
   "outputs": [],
   "source": [
    "import numpy as np\n",
    "training_padded = np.array(padded)\n",
    "training_labels = np.array(training_labels)\n",
    "testing_padded = np.array(testing_padded)\n",
    "testing_labels = np.array(testing_labels)"
   ]
  },
  {
   "cell_type": "code",
   "execution_count": 31,
   "metadata": {},
   "outputs": [],
   "source": [
    "model.compile(loss='binary_crossentropy',optimizer='adam',metrics=['accuracy'])"
   ]
  },
  {
   "cell_type": "code",
   "execution_count": 32,
   "metadata": {
    "tags": []
   },
   "outputs": [
    {
     "output_type": "stream",
     "name": "stdout",
     "text": "Epoch 1/30\n625/625 - 2s - loss: 0.5813 - accuracy: 0.6773 - val_loss: 0.4102 - val_accuracy: 0.8295\nEpoch 2/30\n625/625 - 1s - loss: 0.3172 - accuracy: 0.8705 - val_loss: 0.3470 - val_accuracy: 0.8523\nEpoch 3/30\n625/625 - 1s - loss: 0.2373 - accuracy: 0.9068 - val_loss: 0.3436 - val_accuracy: 0.8551\nEpoch 4/30\n625/625 - 1s - loss: 0.1907 - accuracy: 0.9279 - val_loss: 0.3638 - val_accuracy: 0.8517\nEpoch 5/30\n625/625 - 2s - loss: 0.1577 - accuracy: 0.9419 - val_loss: 0.3874 - val_accuracy: 0.8539\nEpoch 6/30\n625/625 - 2s - loss: 0.1344 - accuracy: 0.9514 - val_loss: 0.4268 - val_accuracy: 0.8419\nEpoch 7/30\n625/625 - 2s - loss: 0.1142 - accuracy: 0.9604 - val_loss: 0.4568 - val_accuracy: 0.8463\nEpoch 8/30\n625/625 - 2s - loss: 0.0987 - accuracy: 0.9668 - val_loss: 0.5044 - val_accuracy: 0.8405\nEpoch 9/30\n625/625 - 2s - loss: 0.0852 - accuracy: 0.9715 - val_loss: 0.5456 - val_accuracy: 0.8357\nEpoch 10/30\n625/625 - 2s - loss: 0.0747 - accuracy: 0.9752 - val_loss: 0.6038 - val_accuracy: 0.8296\nEpoch 11/30\n625/625 - 2s - loss: 0.0655 - accuracy: 0.9797 - val_loss: 0.6589 - val_accuracy: 0.8286\nEpoch 12/30\n625/625 - 1s - loss: 0.0567 - accuracy: 0.9826 - val_loss: 0.7049 - val_accuracy: 0.8256\nEpoch 13/30\n625/625 - 1s - loss: 0.0489 - accuracy: 0.9851 - val_loss: 0.7737 - val_accuracy: 0.8235\nEpoch 14/30\n625/625 - 1s - loss: 0.0440 - accuracy: 0.9875 - val_loss: 0.8193 - val_accuracy: 0.8216\nEpoch 15/30\n625/625 - 1s - loss: 0.0388 - accuracy: 0.9880 - val_loss: 0.8747 - val_accuracy: 0.8195\nEpoch 16/30\n625/625 - 1s - loss: 0.0335 - accuracy: 0.9907 - val_loss: 0.9323 - val_accuracy: 0.8174\nEpoch 17/30\n625/625 - 1s - loss: 0.0291 - accuracy: 0.9923 - val_loss: 1.0042 - val_accuracy: 0.8141\nEpoch 18/30\n625/625 - 1s - loss: 0.0265 - accuracy: 0.9926 - val_loss: 1.0634 - val_accuracy: 0.8119\nEpoch 19/30\n625/625 - 1s - loss: 0.0225 - accuracy: 0.9940 - val_loss: 1.1183 - val_accuracy: 0.8083\nEpoch 20/30\n625/625 - 1s - loss: 0.0215 - accuracy: 0.9939 - val_loss: 1.1836 - val_accuracy: 0.8091\nEpoch 21/30\n625/625 - 1s - loss: 0.0193 - accuracy: 0.9944 - val_loss: 1.2352 - val_accuracy: 0.8098\nEpoch 22/30\n625/625 - 1s - loss: 0.0164 - accuracy: 0.9959 - val_loss: 1.3240 - val_accuracy: 0.8089\nEpoch 23/30\n625/625 - 1s - loss: 0.0155 - accuracy: 0.9956 - val_loss: 1.3532 - val_accuracy: 0.8070\nEpoch 24/30\n625/625 - 1s - loss: 0.0135 - accuracy: 0.9962 - val_loss: 1.3955 - val_accuracy: 0.8065\nEpoch 25/30\n625/625 - 1s - loss: 0.0119 - accuracy: 0.9972 - val_loss: 1.4732 - val_accuracy: 0.8056\nEpoch 26/30\n625/625 - 1s - loss: 0.0111 - accuracy: 0.9973 - val_loss: 1.5246 - val_accuracy: 0.8058\nEpoch 27/30\n625/625 - 1s - loss: 0.0103 - accuracy: 0.9976 - val_loss: 1.5813 - val_accuracy: 0.8059\nEpoch 28/30\n625/625 - 1s - loss: 0.0089 - accuracy: 0.9977 - val_loss: 1.6533 - val_accuracy: 0.8044\nEpoch 29/30\n625/625 - 2s - loss: 0.0086 - accuracy: 0.9976 - val_loss: 1.7229 - val_accuracy: 0.8027\nEpoch 30/30\n625/625 - 2s - loss: 0.0073 - accuracy: 0.9983 - val_loss: 1.7904 - val_accuracy: 0.8034\n"
    }
   ],
   "source": [
    "history = model.fit(\n",
    "    padded,\n",
    "    training_labels,\n",
    "    epochs=30,\n",
    "    validation_data=(testing_padded, testing_labels),\n",
    "    verbose= 2\n",
    ")"
   ]
  },
  {
   "cell_type": "code",
   "execution_count": 34,
   "metadata": {
    "tags": []
   },
   "outputs": [
    {
     "output_type": "stream",
     "name": "stdout",
     "text": "? ? ? ? ? ? ? ? ? ? ? ? ? ? ? ? ? ? ? ? former <!@#> store clerk sues over secret 'black <!@#> for minority shoppers\nmom starting to fear son's web series closest thing she will have to grandchild\n1\n"
    }
   ],
   "source": [
    "reverse_word_index = dict([(value, key) for (key, value) in word_index.items()])\n",
    "\n",
    "def decode_sentence(text):\n",
    "    return ' '.join([reverse_word_index.get(i, '?') for i in text])\n",
    "\n",
    "print(decode_sentence(training_padded[0]))\n",
    "print(training_sentences[2])\n",
    "print(labels[2])"
   ]
  },
  {
   "cell_type": "code",
   "execution_count": 35,
   "metadata": {
    "tags": [
     "outputPrepend"
    ]
   },
   "outputs": [
    {
     "output_type": "stream",
     "name": "stdout",
     "text": "'osha': 24558, 'buzzed': 24559, 'tilsen': 24560, 'reservation': 24561, 'nspw2017': 24562, 'brownies': 24563, 'coogler': 24564, 'wakanda': 24565, \"charlottesville's\": 24566, 'surrender': 24567, '612th': 24568, 'bracelet': 24569, 'pharmacy': 24570, 'damore': 24571, 'abuzz': 24572, 'burma': 24573, 'mania': 24574, \"marketer's\": 24575, \"'slangry'\": 24576, 'filibusters': 24577, 'corrections': 24578, 'refrain': 24579, 'chants': 24580, \"'fawlty\": 24581, \"towers'\": 24582, 'deportations': 24583, \"cup's\": 24584, 'mooney': 24585, 'banter': 24586, 'snatching': 24587, 'boynton': 24588, 'robinson': 24589, '104': 24590, \"'effing'\": 24591, 'beacon': 24592, \"seymour's\": 24593, 'stormtroopers': 24594, \"lord'\": 24595, \"cowell's\": 24596, 'introverted': 24597, 'attorneys': 24598, 'cleansed': 24599, 'crisp': 24600, 'dapperly': 24601, 'cate': 24602, 'blanchett': 24603, 'grover': 24604, \"'apartheid\": 24605, \"state'\": 24606, 'relied': 24607, 'electronics': 24608, '1971': 24609, 'fests': 24610, 'halfpipe': 24611, 'minimums': 24612, 'raoul': 24613, 'wallenberg': 24614, 'prelims': 24615, 'roosevelt': 24616, 'cynics': 24617, 'realists': 24618, 'chime': 24619, \"buddha'\": 24620, \"baseball's\": 24621, 'sillier': 24622, \"spoon's\": 24623, 'pint': 24624, 'jarring': 24625, \"harvard's\": 24626, 'memoirs': 24627, 'omaha': 24628, 'fiercest': 24629, 'kobani': 24630, 'frenchie': 24631, 'meetup': 24632, 'participates': 24633, 'cashless': 24634, \"'latte\": 24635, \"salute'\": 24636, 'disqualified': 24637, 'dominicans': 24638, 'occupiers': 24639, '870': 24640, 'slaughter': 24641, 'noel': 24642, \"comrie's\": 24643, \"khrushchev's\": 24644, 'granddaughter': 24645, 'stalin': 24646, 'fajita': 24647, 'evenings': 24648, \"ireland's\": 24649, 'energi': 24650, 'robed': 24651, 'torchlit': 24652, 'dinnertime': 24653, 'bliss': 24654, 'cisgender': 24655, 'rehearsed': 24656, 'gutsy': 24657, \"'l'\": 24658, 'hijabista': 24659, 'burqa': 24660, 'ramsay': 24661, 'fooling': 24662, 'cosplays': 24663, 'jaime': 24664, 'lannister': 24665, 'ballistics': 24666, 'treatable': 24667, 'ultrachurch': 24668, 'oberst': 24669, \"'fry\": 24670, \"q'\": 24671, 'flier': 24672, 'slits': 24673, 'toes': 24674, 'scouting': 24675, 'wrested': 24676, 'fantastically': 24677, 'binary': 24678, 'paralyzing': 24679, 'multiplex': 24680, \"richie's\": 24681, 'composers': 24682, 'atony': 24683, 'meredith': 24684, \"vieira's\": 24685, '501': 24686, 'rudd': 24687, \"royals'\": 24688, '025': 24689, \"'classic'\": 24690, 'confetti': 24691, 'mooch': 24692, \"'caroline\": 24693, 'greed': 24694, \"sarawak's\": 24695, \"dicaprio's\": 24696, 'interpol': 24697, \"'homosexuality\": 24698, \"addiction'\": 24699, 'chyna': 24700, 'marcel': 24701, 'duchamp': 24702, 'mcenroe': 24703, 'abolishing': 24704, 'cakewalk': 24705, 'socioeconomic': 24706, 'bracket': 24707, 'underrated': 24708, 'thermo': 24709, 'sensing': 24710, 'renames': 24711, 'vito': 24712, 'corleone': 24713, 'lapses': 24714, \"'swamp\": 24715, \"cabinet'\": 24716, \"detective'\": 24717, \"'seriously\": 24718, \"considering'\": 24719, \"abby'\": 24720, \"'part\": 24721, 'surfaced': 24722, 'notebooks': 24723, 'mork': 24724, \"chick'\": 24725, 'enterprise': 24726, 'campers': 24727, '37th': 24728, 'figurine': 24729, 'apex': 24730, 'kamikaze': 24731, 'superpower': 24732, 'favorability': 24733, \"'singing'\": 24734, 'ernest': 24735, 'magnanimous': 24736, 'occupy': 24737, 'geun': 24738, 'hye': 24739, 'sartorial': 24740, 'outbreeding': 24741, 'intelligentsia': 24742, \"'timmy'\": 24743, \"bruegger's\": 24744, 'bagels': 24745, \"wallet's\": 24746, 'pops': 24747, \"spielberg's\": 24748, '1980': 24749, 'prioritizing': 24750, 'winging': 24751, 'clotheslines': 24752, 'pulp': 24753, \"destiny's\": 24754, \"'feminist\": 24755, \"icons'\": 24756, \"'ally\": 24757, \"mcbeal'\": 24758, \"election's\": 24759, 'distributor': 24760, \"'party'\": 24761, 'swims': 24762, 'trendy': 24763, 'communal': 24764, 'squeezes': 24765, 'septuplets': 24766, 'krouse': 24767, \"rosenthal's\": 24768, 'authentic': 24769, 'scrap': 24770, 'dod': 24771, \"'frosty\": 24772, \"snowman'\": 24773, 'aboveground': 24774, 'lectern': 24775, 'bookworm': 24776, 'preacher': 24777, 'anjem': 24778, 'choudary': 24779, 'culpo': 24780, 'collegiate': 24781, 'insignificant': 24782, \"scandal's\": 24783, 'stragglers': 24784, 'sews': 24785, \"'serious'\": 24786, 'deng': 24787, 'xiaoping': 24788, \"'lackluster'\": 24789, \"'porn\": 24790, \"stache'\": 24791, 'kraft': 24792, 'preceded': 24793, 'humanly': 24794, 'rail': 24795, 'panini': 24796, \"'pan\": 24797, \"scallops'\": 24798, 'cop20': 24799, 'totalled': 24800, 'almond': 24801, 'billiards': 24802, 'lactose': 24803, \"'toastables'\": 24804, 'microwavable': 24805, 'toasted': 24806, \"today'\": 24807, 'leftist': 24808, \"rowland's\": 24809, 'typhoon': 24810, 'meranti': 24811, 'tooting': 24812, 'educators': 24813, 'arming': 24814, \"rose's\": 24815, 'inherent': 24816, 'sanctuaries': 24817, 'catacombs': 24818, 'ionceoverheard': 24819, 'nastier': 24820, 'romances': 24821, 'kensington': 24822, 'batumi': 24823, 'activities': 24824, 'burnout': 24825, 'fasting': 24826, 'pillars': 24827, 'exceptions': 24828, 'idiotic': 24829, \"maker'\": 24830, 'nonchalant': 24831, \"wray's\": 24832, 'proctor': 24833, \"'lie'\": 24834, 'introversion': 24835, 'tugs': 24836, 'pant': 24837, \"kisser'\": 24838, 'admission': 24839, 'eccentricities': 24840, 'crossword': 24841, \"'informed\": 24842, \"tribe's\": 24843, \"problems'\": 24844, 'literature': 24845, 'clemson': 24846, 'lsu': 24847, 'deepwater': 24848, 'instances': 24849, \"'first\": 24850, \"aid'\": 24851, \"newsweek's\": 24852, \"jindal's\": 24853, 'benefited': 24854, 'welding': 24855, 'daze': 24856, 'matchbox': 24857, \"'midnight\": 24858, 'length': 24859, 'knuckle': 24860, 'divisive': 24861, 'goddam': 24862, 'utmost': 24863, 'minibar': 24864, \"'murphy\": 24865, 'handicap': 24866, 'ameringer': 24867, 'mcenery': 24868, 'yohe': 24869, 'monte': 24870, 'carlo': 24871, 'racecar': 24872, 'elliott': 24873, \"skeleton'\": 24874, \"'heart\": 24875, \"felt'\": 24876, 'cholesterol': 24877, 'schemes': 24878, \"changer'\": 24879, \"innuendo'\": 24880, 'chum': 24881, 'dope': 24882, 'seized': 24883, 'packets': 24884, 'inert': 24885, \"'mind\": 24886, \"diet'\": 24887, 'cognitive': 24888, '220': 24889, \"'aids\": 24890, \"assad's\": 24891, \"'capital\": 24892, 'succubus': 24893, 'climbers': 24894, 'avalanches': 24895, 'mindy': 24896, 'kaling': 24897, \"'ballers\": 24898, 'nods': 24899, 'delisting': 24900, 'narrowing': 24901, '1913': 24902, 'suffragist': 24903, \"'creamed'\": 24904, 'enthroned': 24905, 'tissues': 24906, \"concerned'\": 24907, 'albanian': 24908, 'wield': 24909, 'lightsabers': 24910, 'composer': 24911, 'licht': 24912, 'upstate': 24913, 'ns': 24914, 'nd': 24915, 'dwf': 24916, \"sticks'\": 24917, 'constructionist': 24918, 'uniforms': 24919, 'autumn': 24920, \"transgenderism'\": 24921, 'obeying': 24922, 'christensen': 24923, 'maness': 24924, 'gleeful': 24925, 'consists': 24926, 'handcar': 24927, \"dock'\": 24928, 'rowboat': 24929, 'volumes': 24930, \"'paused\": 24931, \"studies'\": 24932, 'gulls': 24933, 'cusp': 24934, 'giveaway': 24935, \"american's\": 24936, 'bribes': 24937, 'farts': 24938, 'leyco': 24939, \"'worked\": 24940, \"'weapons\": 24941, 'eugenics': 24942, 'ivf': 24943, \"andrew's\": 24944, 'illegalize': 24945, 'tyka': 24946, 'juicero': 24947, 'juicer': 24948, 'sweepstakes': 24949, 'wabi': 24950, 'sabi': 24951, 'imperfection': 24952, \"'ass'\": 24953, 'brittle': 24954, 'jewess': 24955, 'dreamgirl': 24956, \"'adults\": 24957, 'risking': 24958, 'discoveries': 24959, 'birkenstocks': 24960, 'laffy': 24961, 'taffy': 24962, 'disdains': 24963, 'bazooka': 24964, 'slickest': 24965, 'goon': 24966, 'squads': 24967, 'hail': 24968, 'sacked': 24969, \"madrid's\": 24970, 'cakeshop': 24971, 'mistrial': 24972, 'tampers': 24973, \"'chemo\": 24974, \"backpack'\": 24975, 'wales': 24976, 'chatroulette': 24977, 'aditya': 24978, 'vikram': 24979, \"sengupta's\": 24980, 'bails': 24981, 'donaldson': 24982, '2027': 24983, 'enforcing': 24984, \"'unite\": 24985, \"hers'\": 24986, \"linkedin's\": 24987, 'applauds': 24988, 'madagascar': 24989, 'mdma': 24990, 'scaring': 24991, \"'spotlight'\": 24992, 'fellowship': 24993, 'investigations': 24994, 'blackout': 24995, 'harvested': 24996, 'slack': 24997, 'barksdale': 24998, 'decompose': 24999, 'polly': 25000, 'zehnder': 25001, \"swader's\": 25002, 'unwinding': 25003, 'aptitude': 25004, 'unmoved': 25005, 'weaning': 25006, '2065': 25007, 'miner': 25008, \"'obey'\": 25009, 'arresting': 25010, 'poorest': 25011, 'steer': 25012, \"pitbull's\": 25013, 'tasteless': 25014, 'ineffectual': 25015, 'lifesavers': 25016, 'tempurpedic': 25017, 'gentrified': 25018, 'messenger': 25019, 'saber': 25020, 'rattling': 25021, 'counterproductive': 25022, 'walkabout': 25023, 'wilderness': 25024, \"'children\": 25025, 'photoshop': 25026, 'not—she': 25027, 'docile': 25028, \"'heathcliff'\": 25029, 'cartoons': 25030, \"'cars'\": 25031, \"'slants'\": 25032, \"'pan'\": 25033, 'squash': 25034, 'unlike': 25035, 'primarily': 25036, 'lovestruck': 25037, 'cones': 25038, 'tempting': 25039, 'outpacing': 25040, 'whichever': 25041, 'claude': 25042, 'brinegar': 25043, 'groundskeeper': 25044, 'teaming': 25045, 'tronc': 25046, 'levinsohn': 25047, \"'frat\": 25048, 'expenditure': 25049, 'sleepers': 25050, 'moustache': 25051, 'populist': 25052, 'davos': 25053, 'pupil': 25054, 'inflatable': 25055, \"chair's\": 25056, 'walnuts': 25057, 'sipping': 25058, 'snowboard': 25059, 'yeltsin': 25060, \"africans'\": 25061, 'deductible': 25062, 'eulogizes': 25063, \"seasons'\": 25064, 'bello': 25065, 'carli': 25066, 'kurdistan': 25067, 'shivers': 25068, 'spine': 25069, 'nylon': 25070, \"filter'\": 25071, 'spikes': 25072, 'cherubs': 25073, 'pans': 25074, 'spattering': 25075, 'uncashed': 25076, \"flynn's\": 25077, 'anorexia': 25078, 'ritter': 25079, \"'storm'\": 25080, 'regardless': 25081, \"woods'\": 25082, 'sparring': 25083, 'referendums': 25084, 'bellhop': 25085, 'melanoma': 25086, \"miranda's\": 25087, 'defeating': 25088, '510': 25089, 'grape': 25090, 'extremism': 25091, 'weakens': 25092, 'careening': 25093, 'flame': 25094, 'sheila': 25095, \"crow'\": 25096, \"'really\": 25097, \"lucky'\": 25098, 'cauliflower': 25099, 'crusted': 25100, 'litany': 25101, 'perceive': 25102, 'appendix': 25103, 'avert': 25104, 'wept': 25105, \"'cairo'\": 25106, 'outweighed': 25107, '2043': 25108, 'teleportation': 25109, 'stimulus': 25110, 'warmth': 25111, 'muscle': 25112, 'turf': 25113, 'gout': 25114, 'resurrects': 25115, 'galecki': 25116, \"trumpcare's\": 25117, 'straits': 25118, 'rc': 25119, \"person's\": 25120, \"fda's\": 25121, 'limb': 25122, \"airplane's\": 25123, 'rediscovers': 25124, 'poehler': 25125, 'ike': 25126, 'barinholtz': 25127, 'discriminating': 25128, 'robbie': 25129, 'knievel': 25130, \"generation's\": 25131, 'mediums': 25132, 'frauds': 25133, \"'indoor\": 25134, \"'vest\": 25135, 'technophile': 25136, 'defying': 25137, 'comfy': 25138, 'navratri': 25139, 'hindu': 25140, \"'vacation\": 25141, 'bothered': 25142, 'mildew': 25143, 'presumptive': 25144, 'browses': 25145, 'confiscated': 25146, 'jlaw': 25147, 'overrated': 25148, 'dent': 25149, 'diapers': 25150, \"'screen\": 25151, \"'having\": 25152, \"'ins'\": 25153, \"'veto\": 25154, 'gus': 25155, 'sant': 25156, \"'cut\": 25157, \"genitals'\": 25158, \"feingold's\": 25159, \"'grabbed'\": 25160, 'hyperbole': 25161, 'spock': 25162, 'machete': 25163, 'asbell': 25164, 'juiced': 25165, 'acquired': 25166, 'hatches': 25167, 'shalhoub': 25168, \"'braindead'\": 25169, 'converts': 25170, 'conga': 25171, 'participant': 25172, 'beckons': 25173, 'tacit': 25174, 'romans': 25175, 'beagle': 25176, 'tailors': 25177, 'creed': 25178, \"syndicate'\": 25179, 'factored': 25180, \"romano's\": 25181, 'narrate': 25182, \"consideration'\": 25183, 'utero': 25184, 'mao': 25185, 'childbirth': 25186, \"'ouija'\": 25187, 'defeats': 25188, 'turpan': 25189, 'hawks': 25190, 'hough': 25191, 'endometriosis': 25192, \"edwards'\": 25193, 'vitter': 25194, \"virginia's\": 25195, 'invests': 25196, 'canvasser': 25197, 'sterilized': 25198, \"'conan\": 25199, 'observe': 25200, 'tiananmen': 25201, 'megadonor': 25202, 'congeniality': 25203, 'articles': 25204, 'sherbet': 25205, 'dieselgate': 25206, 'reefs': 25207, 'thom': 25208, 'yorke': 25209, 'established': 25210, \"'dreams\": 25211, \"father'\": 25212, 'hinted': 25213, 'milky': 25214, \"way's\": 25215, 'shimmers': 25216, 'robertson': 25217, 'vaccination': 25218, 'mandates': 25219, \"granddaughters'\": 25220, 'emmanuel': 25221, 'amused': 25222, 'shamanism': 25223, 'successories': 25224, 'shoplifted': 25225, 'oysters': 25226, 'parsons': 25227, \"'rockford\": 25228, 'byblos': 25229, 'brims': 25230, 'raiding': 25231, 'gucci': 25232, 'mane': 25233, 'jena': 25234, 'malone': 25235, 'machinery': 25236, 'bearable': 25237, 'expectation': 25238, 'gofundme': 25239, 'delightful': 25240, 'honorable': 25241, 'meth': 25242, \"dolan's\": 25243, \"timberlake's\": 25244, \"'moment\": 25245, \"silence'\": 25246, \"'bates\": 25247, \"motel'\": 25248, \"snow's\": 25249, 'keanu': 25250, 'reeves': 25251, 'deadbeat': 25252, 'dependency': 25253, 'distraction': 25254, 'squeezed': 25255, 'casamigos': 25256, 'bert': 25257, 'berns': 25258, 'backyards': 25259, 'flapper': 25260, 'prefaces': 25261, \"test's\": 25262, 'ferrante': 25263, \"guardian's\": 25264, 'derby': 25265, \"'bannon\": 25266, \"cannon'\": 25267, \"subway's\": 25268, \"'political'\": 25269, 'déja': 25270, 'chihuahua': 25271, 'dane': 25272, 'endearing': 25273, 'moma': 25274, 'towers': 25275, 'inexperienced': 25276, 'streaker': 25277, \"mike'\": 25278, 'nitrogen': 25279, 'adaptations': 25280, 'storied': 25281, 'ip': 25282, 'reenacts': 25283, 'promiscuous': 25284, \"medicine'\": 25285, 'helms': 25286, 'overreach': 25287, 'sonia': 25288, 'pursuing': 25289, 'gypsy': 25290, 'putty': 25291, 'posterity': 25292, 'beckoning': 25293, 'druid': 25294, 'jihadist': 25295, 'feces': 25296, 'detractors': 25297, 'morphs': 25298, 'hairy': 25299, 'snowy': 25300, \"forte's\": 25301, 'icu': 25302, 'tighter': 25303, 'cessna': 25304, 'hardcore': 25305, 'g8': 25306, 'pawn': 25307, '193': 25308, 'blueprint': 25309, 'rainstorms': 25310, 'pummel': 25311, \"'geekier'\": 25312, \"s'mores\": 25313, 'bureaucratic': 25314, 'popemobile': 25315, 'motivates': 25316, 'willams': 25317, 'grandparenting': 25318, 'jolson': 25319, 'deliberating': 25320, \"victims'\": 25321, \"nature's\": 25322, 'emmett': 25323, 'appropriation': 25324, 'infidel': 25325, '893': 25326, '1930s': 25327, 'outsmarted': 25328, 'prepping': 25329, \"'cool\": 25330, \"laid'\": 25331, \"'slavery\": 25332, 'almighty': 25333, \"'feels\": 25334, 'eighty': 25335, 'seniority': 25336, 'profession': 25337, \"'hansel\": 25338, \"gretel'\": 25339, 'greenpeace': 25340, 'breeders': 25341, 'mastiffeagle': 25342, 'fossils': 25343, 'ci': 25344, 'grudgingly': 25345, 'foxes': 25346, 'sneakiest': 25347, \"'meow\": 25348, \"nisota'\": 25349, 'hannah': 25350, 'stoudemire': 25351, 'coated': 25352, 'dazzling': 25353, 'subscribing': 25354, 'improvements': 25355, \"'hiv\": 25356, 'stroll': 25357, \"'brownface'\": 25358, 'lipsticks': 25359, 'elks': 25360, \"hulu's\": 25361, 'fiennes': 25362, 'antonoff': 25363, 'peake': 25364, 'notifications': 25365, 'thalia': 25366, 'cassuto': 25367, \"'brainwashing\": 25368, 'denier': 25369, 'routes': 25370, \"'cancer\": 25371, \"politics'\": 25372, '2001': 25373, \"'sing\": 25374, 'torturing': 25375, 'outsourced': 25376, 'klepper': 25377, \"gun'\": 25378, 'overstays': 25379, 'dollhouse': 25380, 'dol': 25381, 'processing': 25382, \"'secret'\": 25383, 'discounted': 25384, 'walletless': 25385, 'handcuffed': 25386, 'bedpost': 25387, 'lesser': 25388, \"pen's\": 25389, 'viability': 25390, 'slashes': 25391, 'beachfront': 25392, 'clamshell': 25393, 'exquisite': 25394, \"'tis\": 25395, \"'jingle\": 25396, \"butts'\": 25397, 'unfamiliar': 25398, 'knobs': 25399, 'sontag': 25400, \"philanderer'\": 25401, \"'pathological\": 25402, \"liar'\": 25403, 'philadelphiatheatreco': 25404, 'aligned': 25405, 'pointz': 25406, 'condos': 25407, 'infamy': 25408, 'merges': 25409, 'genders': 25410, 'behaved': 25411, 'playstation': 25412, 'limo': 25413, 'cylindrical': 25414, 'venison': 25415, 'camel': 25416, 'yoke': 25417, 'fronts': 25418, 'moneymaking': 25419, \"paterno's\": 25420, 'orgy': 25421, 'heir': 25422, 'isabel': 25423, 'allende': 25424, 'bussi': 25425, 'prosecuted': 25426, 'fullest': 25427, 'loot': 25428, 'panoramic': 25429, \"angeles'\": 25430, \"'tried\": 25431, 'locust': 25432, \"billionaire's\": 25433, 'idris': 25434, 'elba': 25435, 'lager': 25436, 'tavern': 25437, 'demonstrating': 25438, 'disdain': 25439, 'sterilization': 25440, \"'breaking'\": 25441, 'antismoking': 25442, 'intervene': 25443, 'rerelease': 25444, 'toucan': 25445, \"kellogg's\": 25446, 'mascots': 25447, \"'speak\": 25448, 'posture': 25449, 'formaldehyde': 25450, \"positive'\": 25451, \"'tomb\": 25452, \"raider'\": 25453, 'pedestrian': 25454, 'antacid': 25455, 'farhadi': 25456, \"warpaint's\": 25457, 'wayman': 25458, \"'vivid'\": 25459, 'inevitably': 25460, 'uninhibited': 25461, 'choosing': 25462, \"'mother\": 25463, 'essentially': 25464, 'mourdock': 25465, 'polite': 25466, 'indicates': 25467, 'poseidon': 25468, 'bicycles': 25469, 'spaceships': 25470, 'warping': 25471, 'objection': 25472, 'envy': 25473, 'jots': 25474, 'credentials': 25475, 'huh': 25476, 'redistribution': 25477, 'guerrilla': 25478, \"jumper's\": 25479, 'plummet': 25480, \"field'\": 25481, 'gladness': 25482, 'misplaced': 25483, 'assignment': 25484, 'peru': 25485, 'battering': 25486, 'ram': 25487, 'heist': 25488, 'infringement': 25489, 'shakira': 25490, 'spinach': 25491, 'dreamcatcher': 25492, 'rearview': 25493, 'slideshow': 25494, 'tab': 25495, 'savored': 25496, 'leisure': 25497, 'weakness': 25498, \"'romney'\": 25499, \"'epidemic\": 25500, \"violence'\": 25501, \"kenya's\": 25502, \"'alt\": 25503, \"claim'\": 25504, 'monaghan': 25505, \"who'\": 25506, 'zestitos': 25507, 'ozone': 25508, 'repletion': 25509, \"'without\": 25510, 'blankly': 25511, 'starlight': 25512, 'mold': 25513, 'dominican': 25514, \"'hey\": 25515, \"jude'\": 25516, \"'affluenza'\": 25517, 'tonya': 25518, 'curfew': 25519, 'eased': 25520, 'blm': 25521, 'cushion': 25522, \"happen'\": 25523, \"snowden's\": 25524, \"'onion'\": 25525, 'explainthe90sin4words': 25526, 'resurfaces': 25527, '00003': 25528, \"'scooter'\": 25529, 'libby': 25530, 'topher': 25531, \"grace's\": 25532, 'degas': 25533, 'crullers': 25534, 'wades': 25535, \"'out\": 25536, \"sight'\": 25537, \"larson's\": 25538, \"'trainwreck'\": 25539, 'comp': 25540, 'criteria': 25541, 'fussy': 25542, 'eater': 25543, 'texans': 25544, 'macbook': 25545, 'qualify': 25546, 'robotrix': 25547, 'cursive': 25548, 'doorstop': 25549, 'closets': 25550, 'crouched': 25551, 'mockument': 25552, 'greitens': 25553, 'overdrive': 25554, 'nh': 25555, \"'fact\": 25556, 'the…': 25557, 'nonverbal': 25558, 'and—holy': 25559, 'cow—tony': 25560, 'award–nominated': 25561, 'conductor—really': 25562, 'wow—calypso': 25563, 'rescuing': 25564, 'quiznos': 25565, \"phish's\": 25566, \"crazy'\": 25567, 'tripping': 25568, 'devised': 25569, 'relativity': 25570, 'invent': 25571, 'jaded': 25572, 'seismologist': 25573, 'richter': 25574, 'fabled': 25575, 'quadriplegic': 25576, \"'fraggle\": 25577, \"'strange\": 25578, \"looking'\": 25579, \"grandfather's\": 25580, \"shock'\": 25581, 'overprivileged': 25582, \"damon's\": 25583, 'groggy': 25584, \"massachusetts'\": 25585, 'vegans': 25586, 'satanists': 25587, 'scapegoats': 25588, \"june'\": 25589, \"deserve'\": 25590, \"'brief\": 25591, \"nudity'\": 25592, 'dated': 25593, '94th': 25594, 'adjudicatory': 25595, 'tendon': 25596, 'inedibles': 25597, 'thewrap': 25598, 'amnesty': 25599, 'warhol': 25600, 'crowns': 25601, 'fender': 25602, \"gawker's\": 25603, 'loathing': 25604, \"'riverdale'\": 25605, 'lili': 25606, 'reinhart': 25607, 'insensitive': 25608, 'chapman': 25609, 'lilith': 25610, 'sweaty': 25611, 'transcanada': 25612, 'painstaking': 25613, 'critiquing': 25614, 'safire': 25615, 'whoppers': 25616, 'generals': 25617, 'southerners': 25618, 'fireflies': 25619, 'salvage': 25620, 'leathery': 25621, \"'stealing\": 25622, \"grandparents'\": 25623, 'serenade': 25624, 'udpate': 25625, 'mollusks': 25626, 'misophonia': 25627, 'snowed': 25628, 'wonk': 25629, 'shtick': 25630, 'thirtysomething': 25631, 'breathalyzer': 25632, 'selene': 25633, 'chin': 25634, 'mastered': 25635, 'usurp': 25636, 'cutoff': 25637}\n"
    }
   ],
   "source": [
    "print(word_index)"
   ]
  },
  {
   "cell_type": "code",
   "execution_count": 36,
   "metadata": {
    "tags": []
   },
   "outputs": [
    {
     "output_type": "stream",
     "name": "stdout",
     "text": "(10000, 16)\n"
    }
   ],
   "source": [
    "e = model.layers[0]\n",
    "weights = e.get_weights()[0]\n",
    "print(weights.shape)"
   ]
  },
  {
   "cell_type": "code",
   "execution_count": 39,
   "metadata": {
    "tags": []
   },
   "outputs": [
    {
     "output_type": "stream",
     "name": "stdout",
     "text": "[[9.8390031e-01]\n [2.9154987e-09]]\n"
    }
   ],
   "source": [
    "sentence = [\"granny starting to fear spiders in the garden might be real\", \"game of thrones season finale showing this sunday night\"]\n",
    "sequences = tokenizer.texts_to_sequences(sentence)\n",
    "padded = pad_sequences(sequences, maxlen=max_length, truncating=trunc_type)\n",
    "print(model.predict(padded))"
   ]
  },
  {
   "cell_type": "code",
   "execution_count": null,
   "metadata": {},
   "outputs": [],
   "source": []
  }
 ]
}