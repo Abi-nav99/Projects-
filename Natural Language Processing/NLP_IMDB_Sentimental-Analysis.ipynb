{
 "metadata": {
  "language_info": {
   "codemirror_mode": {
    "name": "ipython",
    "version": 3
   },
   "file_extension": ".py",
   "mimetype": "text/x-python",
   "name": "python",
   "nbconvert_exporter": "python",
   "pygments_lexer": "ipython3",
   "version": "3.8.5-final"
  },
  "orig_nbformat": 2,
  "kernelspec": {
   "name": "python_defaultSpec_1600860769523",
   "display_name": "Python 3.8.5 64-bit"
  }
 },
 "nbformat": 4,
 "nbformat_minor": 2,
 "cells": [
  {
   "cell_type": "code",
   "execution_count": 1,
   "metadata": {
    "tags": []
   },
   "outputs": [
    {
     "output_type": "stream",
     "name": "stderr",
     "text": "Dl Completed...: 0 url [00:00, ? url/s]\nDl Completed...:   0%|          | 0/1 [00:00<?, ? url/s]\nDl Size...: 0 MiB [00:00, ? MiB/s]\u001b[A\u001b[1mDownloading and preparing dataset imdb_reviews/plain_text/1.0.0 (download: Unknown size, generated: Unknown size, total: Unknown size) to C:\\Users\\abi_r\\tensorflow_datasets\\imdb_reviews\\plain_text\\1.0.0...\u001b[0m\nDl Completed...:   0%|          | 0/1 [00:00<?, ? url/s]\nDl Size...:   0%|          | 0/80 [00:00<?, ? MiB/s]\u001b[A\nDl Completed...:   0%|          | 0/1 [00:25<?, ? url/s]\nDl Size...:   1%|▏         | 1/80 [00:25<33:23, 25.37s/ MiB]\u001b[A\nDl Completed...:   0%|          | 0/1 [00:47<?, ? url/s]\nDl Size...:   2%|▎         | 2/80 [00:47<31:33, 24.27s/ MiB]\u001b[A\nDl Completed...:   0%|          | 0/1 [01:03<?, ? url/s]\nDl Size...:   4%|▍         | 3/80 [01:03<28:00, 21.83s/ MiB]\u001b[A\nDl Completed...:   0%|          | 0/1 [01:15<?, ? url/s]\nDl Size...:   5%|▌         | 4/80 [01:15<24:00, 18.95s/ MiB]\u001b[A\nDl Completed...:   0%|          | 0/1 [01:41<?, ? url/s]\nDl Size...:   6%|▋         | 5/80 [01:41<26:09, 20.93s/ MiB]\u001b[A\nDl Completed...:   0%|          | 0/1 [01:55<?, ? url/s]\nDl Size...:   8%|▊         | 6/80 [01:55<23:26, 19.01s/ MiB]\u001b[A\nDl Completed...:   0%|          | 0/1 [02:09<?, ? url/s]\nDl Size...:   9%|▉         | 7/80 [02:09<21:27, 17.64s/ MiB]\u001b[A\nDl Completed...:   0%|          | 0/1 [02:27<?, ? url/s]\nDl Size...:  10%|█         | 8/80 [02:27<21:07, 17.60s/ MiB]\u001b[A\nDl Completed...:   0%|          | 0/1 [02:36<?, ? url/s]\nDl Size...:  11%|█▏        | 9/80 [02:36<17:49, 15.06s/ MiB]\u001b[A\nDl Completed...:   0%|          | 0/1 [02:48<?, ? url/s]\nDl Size...:  12%|█▎        | 10/80 [02:48<16:25, 14.08s/ MiB]\u001b[A\nDl Completed...:   0%|          | 0/1 [03:04<?, ? url/s]\nDl Size...:  14%|█▍        | 11/80 [03:04<16:57, 14.75s/ MiB]\u001b[A\nDl Completed...:   0%|          | 0/1 [03:14<?, ? url/s]\nDl Size...:  15%|█▌        | 12/80 [03:14<15:02, 13.28s/ MiB]\u001b[A\nDl Completed...:   0%|          | 0/1 [03:25<?, ? url/s]\nDl Size...:  16%|█▋        | 13/80 [03:25<14:07, 12.65s/ MiB]\u001b[A\nDl Completed...:   0%|          | 0/1 [03:42<?, ? url/s]\nDl Size...:  18%|█▊        | 14/80 [03:42<15:15, 13.87s/ MiB]\u001b[A\nDl Completed...:   0%|          | 0/1 [04:10<?, ? url/s]\nDl Size...:  19%|█▉        | 15/80 [04:10<19:31, 18.03s/ MiB]\u001b[A\nDl Completed...:   0%|          | 0/1 [04:21<?, ? url/s]\nDl Size...:  20%|██        | 16/80 [04:21<17:09, 16.09s/ MiB]\u001b[A\nDl Completed...:   0%|          | 0/1 [04:35<?, ? url/s]\nDl Size...:  21%|██▏       | 17/80 [04:35<16:17, 15.52s/ MiB]\u001b[A\nDl Completed...:   0%|          | 0/1 [04:57<?, ? url/s]\nDl Size...:  22%|██▎       | 18/80 [04:57<17:46, 17.20s/ MiB]\u001b[A\nDl Completed...:   0%|          | 0/1 [05:09<?, ? url/s]\nDl Size...:  24%|██▍       | 19/80 [05:09<15:57, 15.69s/ MiB]\u001b[A\nDl Completed...:   0%|          | 0/1 [05:49<?, ? url/s]\nDl Size...:  25%|██▌       | 20/80 [05:49<23:02, 23.03s/ MiB]\u001b[A\nDl Completed...:   0%|          | 0/1 [06:02<?, ? url/s]\nDl Size...:  26%|██▋       | 21/80 [06:02<19:37, 19.96s/ MiB]\u001b[A\nDl Completed...:   0%|          | 0/1 [06:17<?, ? url/s]\nDl Size...:  28%|██▊       | 22/80 [06:17<17:52, 18.50s/ MiB]\u001b[A\nDl Completed...:   0%|          | 0/1 [06:37<?, ? url/s]\nDl Size...:  29%|██▉       | 23/80 [06:37<18:06, 19.07s/ MiB]\u001b[A\nDl Completed...:   0%|          | 0/1 [06:59<?, ? url/s]\nDl Size...:  30%|███       | 24/80 [06:59<18:32, 19.87s/ MiB]\u001b[A\nDl Completed...:   0%|          | 0/1 [07:15<?, ? url/s]\nDl Size...:  31%|███▏      | 25/80 [07:15<17:14, 18.81s/ MiB]\u001b[A\nDl Completed...:   0%|          | 0/1 [07:27<?, ? url/s]\nDl Size...:  32%|███▎      | 26/80 [07:27<14:57, 16.61s/ MiB]\u001b[A\nDl Completed...:   0%|          | 0/1 [07:40<?, ? url/s]\nDl Size...:  34%|███▍      | 27/80 [07:40<13:47, 15.61s/ MiB]\u001b[A\nDl Completed...:   0%|          | 0/1 [07:47<?, ? url/s]\nDl Size...:  35%|███▌      | 28/80 [07:47<11:23, 13.14s/ MiB]\u001b[A\nDl Completed...:   0%|          | 0/1 [07:50<?, ? url/s]\nDl Size...:  36%|███▋      | 29/80 [07:50<08:29, 10.00s/ MiB]\u001b[A\nDl Completed...:   0%|          | 0/1 [07:53<?, ? url/s]\nDl Size...:  38%|███▊      | 30/80 [07:53<06:38,  7.96s/ MiB]\u001b[A\nDl Completed...:   0%|          | 0/1 [08:17<?, ? url/s]\nDl Size...:  39%|███▉      | 31/80 [08:17<10:19, 12.65s/ MiB]\u001b[A\nDl Completed...:   0%|          | 0/1 [08:21<?, ? url/s]\nDl Size...:  40%|████      | 32/80 [08:21<08:04, 10.09s/ MiB]\u001b[A\nDl Completed...:   0%|          | 0/1 [08:23<?, ? url/s]\nDl Size...:  41%|████▏     | 33/80 [08:23<06:05,  7.77s/ MiB]\u001b[A\nDl Completed...:   0%|          | 0/1 [08:25<?, ? url/s]\nDl Size...:  42%|████▎     | 34/80 [08:25<04:35,  5.99s/ MiB]\u001b[A\nDl Completed...:   0%|          | 0/1 [08:28<?, ? url/s]\nDl Size...:  44%|████▍     | 35/80 [08:28<03:43,  4.96s/ MiB]\u001b[A\nDl Completed...:   0%|          | 0/1 [08:31<?, ? url/s]\nDl Size...:  45%|████▌     | 36/80 [08:31<03:13,  4.40s/ MiB]\u001b[A\nDl Completed...:   0%|          | 0/1 [08:35<?, ? url/s]\nDl Size...:  46%|████▋     | 37/80 [08:35<03:02,  4.24s/ MiB]\u001b[A\nDl Completed...:   0%|          | 0/1 [08:39<?, ? url/s]\nDl Size...:  48%|████▊     | 38/80 [08:39<02:57,  4.23s/ MiB]\u001b[A\nDl Completed...:   0%|          | 0/1 [08:43<?, ? url/s]\nDl Size...:  49%|████▉     | 39/80 [08:43<02:51,  4.19s/ MiB]\u001b[A\nDl Completed...:   0%|          | 0/1 [08:52<?, ? url/s]\nDl Size...:  50%|█████     | 40/80 [08:52<03:42,  5.55s/ MiB]\u001b[A\nDl Completed...:   0%|          | 0/1 [09:00<?, ? url/s]\nDl Size...:  51%|█████▏    | 41/80 [09:00<04:02,  6.22s/ MiB]\u001b[A\nDl Completed...:   0%|          | 0/1 [09:06<?, ? url/s]\nDl Size...:  52%|█████▎    | 42/80 [09:06<03:58,  6.28s/ MiB]\u001b[A\nDl Completed...:   0%|          | 0/1 [09:14<?, ? url/s]\nDl Size...:  54%|█████▍    | 43/80 [09:14<04:10,  6.76s/ MiB]\u001b[A\nDl Completed...:   0%|          | 0/1 [09:21<?, ? url/s]\nDl Size...:  55%|█████▌    | 44/80 [09:21<04:09,  6.94s/ MiB]\u001b[A\nDl Completed...:   0%|          | 0/1 [09:29<?, ? url/s]\nDl Size...:  56%|█████▋    | 45/80 [09:29<04:15,  7.30s/ MiB]\u001b[A\nDl Completed...:   0%|          | 0/1 [09:37<?, ? url/s]\nDl Size...:  57%|█████▊    | 46/80 [09:37<04:16,  7.54s/ MiB]\u001b[A\nDl Completed...:   0%|          | 0/1 [09:42<?, ? url/s]\nDl Size...:  59%|█████▉    | 47/80 [09:42<03:36,  6.56s/ MiB]\u001b[A\nDl Completed...:   0%|          | 0/1 [09:48<?, ? url/s]\nDl Size...:  60%|██████    | 48/80 [09:48<03:29,  6.54s/ MiB]\u001b[A\nDl Completed...:   0%|          | 0/1 [09:56<?, ? url/s]\nDl Size...:  61%|██████▏   | 49/80 [09:56<03:34,  6.93s/ MiB]\u001b[A\nDl Completed...:   0%|          | 0/1 [10:00<?, ? url/s]\nDl Size...:  62%|██████▎   | 50/80 [10:00<03:05,  6.20s/ MiB]\u001b[A\nDl Completed...:   0%|          | 0/1 [10:09<?, ? url/s]\nDl Size...:  64%|██████▍   | 51/80 [10:09<03:23,  7.01s/ MiB]\u001b[A\nDl Completed...:   0%|          | 0/1 [10:16<?, ? url/s]\nDl Size...:  65%|██████▌   | 52/80 [10:16<03:13,  6.90s/ MiB]\u001b[A\nDl Completed...:   0%|          | 0/1 [10:22<?, ? url/s]\nDl Size...:  66%|██████▋   | 53/80 [10:22<02:56,  6.52s/ MiB]\u001b[A\nDl Completed...:   0%|          | 0/1 [10:29<?, ? url/s]\nDl Size...:  68%|██████▊   | 54/80 [10:29<02:59,  6.89s/ MiB]\u001b[A\nDl Completed...:   0%|          | 0/1 [10:38<?, ? url/s]\nDl Size...:  69%|██████▉   | 55/80 [10:38<03:06,  7.46s/ MiB]\u001b[A\nDl Completed...:   0%|          | 0/1 [10:43<?, ? url/s]\nDl Size...:  70%|███████   | 56/80 [10:43<02:39,  6.66s/ MiB]\u001b[A\nDl Completed...:   0%|          | 0/1 [10:59<?, ? url/s]\nDl Size...:  71%|███████▏  | 57/80 [10:59<03:38,  9.51s/ MiB]\u001b[A\nDl Completed...:   0%|          | 0/1 [11:18<?, ? url/s]\nDl Size...:  72%|███████▎  | 58/80 [11:18<04:27, 12.16s/ MiB]\u001b[A\nDl Completed...:   0%|          | 0/1 [11:42<?, ? url/s]\nDl Size...:  74%|███████▍  | 59/80 [11:42<05:34, 15.91s/ MiB]\u001b[A\nDl Completed...:   0%|          | 0/1 [12:14<?, ? url/s]\nDl Size...:  75%|███████▌  | 60/80 [12:14<06:52, 20.64s/ MiB]\u001b[A\nDl Completed...:   0%|          | 0/1 [12:22<?, ? url/s]\nDl Size...:  76%|███████▋  | 61/80 [12:22<05:21, 16.92s/ MiB]\u001b[A\nDl Completed...:   0%|          | 0/1 [12:30<?, ? url/s]\nDl Size...:  78%|███████▊  | 62/80 [12:30<04:15, 14.21s/ MiB]\u001b[A\nDl Completed...:   0%|          | 0/1 [12:37<?, ? url/s]\nDl Size...:  79%|███████▉  | 63/80 [12:37<03:26, 12.13s/ MiB]\u001b[A\nDl Completed...:   0%|          | 0/1 [12:42<?, ? url/s]\nDl Size...:  80%|████████  | 64/80 [12:42<02:38,  9.92s/ MiB]\u001b[A\nDl Completed...:   0%|          | 0/1 [12:48<?, ? url/s]\nDl Size...:  81%|████████▏ | 65/80 [12:48<02:11,  8.80s/ MiB]\u001b[A\nDl Completed...:   0%|          | 0/1 [13:13<?, ? url/s]\nDl Size...:  82%|████████▎ | 66/80 [13:13<03:09, 13.53s/ MiB]\u001b[A\nDl Completed...:   0%|          | 0/1 [13:26<?, ? url/s]\nDl Size...:  84%|████████▍ | 67/80 [13:26<02:54, 13.41s/ MiB]\u001b[A\nDl Completed...:   0%|          | 0/1 [13:33<?, ? url/s]\nDl Size...:  85%|████████▌ | 68/80 [13:33<02:17, 11.48s/ MiB]\u001b[A\nDl Completed...:   0%|          | 0/1 [13:43<?, ? url/s]\nDl Size...:  86%|████████▋ | 69/80 [13:43<02:00, 10.98s/ MiB]\u001b[A\nDl Completed...:   0%|          | 0/1 [13:51<?, ? url/s]\nDl Size...:  88%|████████▊ | 70/80 [13:51<01:42, 10.24s/ MiB]\u001b[A\nDl Completed...:   0%|          | 0/1 [13:58<?, ? url/s]\nDl Size...:  89%|████████▉ | 71/80 [13:58<01:22,  9.11s/ MiB]\u001b[A\nDl Completed...:   0%|          | 0/1 [14:02<?, ? url/s]\nDl Size...:  90%|█████████ | 72/80 [14:02<01:00,  7.60s/ MiB]\u001b[A\nDl Completed...:   0%|          | 0/1 [14:20<?, ? url/s]\nDl Size...:  91%|█████████▏| 73/80 [14:20<01:14, 10.68s/ MiB]\u001b[A\nDl Completed...:   0%|          | 0/1 [14:52<?, ? url/s]\nDl Size...:  92%|█████████▎| 74/80 [14:52<01:43, 17.32s/ MiB]\u001b[A\nDl Completed...:   0%|          | 0/1 [15:28<?, ? url/s]\nDl Size...:  94%|█████████▍| 75/80 [15:28<01:54, 22.84s/ MiB]\u001b[A\nDl Completed...:   0%|          | 0/1 [15:38<?, ? url/s]\nDl Size...:  95%|█████████▌| 76/80 [15:38<01:15, 18.85s/ MiB]\u001b[A\nDl Completed...:   0%|          | 0/1 [15:47<?, ? url/s]\nDl Size...:  96%|█████████▋| 77/80 [15:47<00:47, 15.87s/ MiB]\u001b[A\nDl Completed...:   0%|          | 0/1 [15:54<?, ? url/s]\nDl Size...:  98%|█████████▊| 78/80 [15:54<00:26, 13.47s/ MiB]\u001b[A\nDl Completed...:   0%|          | 0/1 [16:01<?, ? url/s]\nDl Size...:  99%|█████████▉| 79/80 [16:01<00:11, 11.40s/ MiB]\u001b[A\nDl Completed...:   0%|          | 0/1 [16:12<?, ? url/s]\nDl Completed...: 100%|██████████| 1/1 [16:24<00:00, 984.26s/ url]\nDl Size...: 100%|██████████| 80/80 [16:24<00:00, 12.30s/ MiB]\nDl Completed...: 100%|██████████| 1/1 [16:24<00:00, 984.32s/ url]\n0 examples [00:00, ? examples/s]\n\n 24%|██▍       | 6100/25000 [00:00<00:00, 25924.43 examples/s]Shuffling and writing examples to C:\\Users\\abi_r\\tensorflow_datasets\\imdb_reviews\\plain_text\\1.0.0.incompleteQKZV7B\\imdb_reviews-train.tfrecord\n 20%|█▉        | 4977/25000 [00:00<00:00, 21959.76 examples/s]Shuffling and writing examples to C:\\Users\\abi_r\\tensorflow_datasets\\imdb_reviews\\plain_text\\1.0.0.incompleteQKZV7B\\imdb_reviews-test.tfrecord\n  6%|▌         | 2994/50000 [00:00<00:04, 9713.91 examples/s]Shuffling and writing examples to C:\\Users\\abi_r\\tensorflow_datasets\\imdb_reviews\\plain_text\\1.0.0.incompleteQKZV7B\\imdb_reviews-unsupervised.tfrecord\n 94%|█████████▍| 47229/50000 [00:01<00:00, 32517.75 examples/s]\u001b[1mDataset imdb_reviews downloaded and prepared to C:\\Users\\abi_r\\tensorflow_datasets\\imdb_reviews\\plain_text\\1.0.0. Subsequent calls will reuse this data.\u001b[0m\n"
    }
   ],
   "source": [
    "import tensorflow_datasets as tfds \n",
    "\n",
    "imdb, info = tfds.load(\"imdb_reviews\", with_info = True, as_supervised = True)"
   ]
  },
  {
   "cell_type": "code",
   "execution_count": 2,
   "metadata": {},
   "outputs": [],
   "source": [
    "train_data, test_data = imdb['train'], imdb['test']"
   ]
  },
  {
   "cell_type": "code",
   "execution_count": 35,
   "metadata": {},
   "outputs": [],
   "source": [
    "import numpy as np \n",
    "\n",
    "training_sentences = []\n",
    "training_labels = []\n",
    "\n",
    "testing_sentences = [] \n",
    "testing_labels = []\n"
   ]
  },
  {
   "cell_type": "code",
   "execution_count": 36,
   "metadata": {},
   "outputs": [],
   "source": [
    "for s,l in train_data:\n",
    "    training_sentences.append(str(s.numpy().decode('utf8')))\n",
    "    training_labels.append(l.numpy())"
   ]
  },
  {
   "cell_type": "code",
   "execution_count": 37,
   "metadata": {},
   "outputs": [],
   "source": [
    "for s,l in test_data:\n",
    "  testing_sentences.append(s.numpy().decode('utf8'))\n",
    "  testing_labels.append(l.numpy())"
   ]
  },
  {
   "cell_type": "code",
   "execution_count": 38,
   "metadata": {},
   "outputs": [],
   "source": [
    "training_labels_final = np.array(training_labels)\n",
    "testing_labels_final = np.array(testing_labels)"
   ]
  },
  {
   "cell_type": "code",
   "execution_count": 39,
   "metadata": {},
   "outputs": [],
   "source": [
    "vocab_size = 10000\n",
    "embedding_dim = 16\n",
    "max_length = 120\n",
    "trunc_type = 'post'\n",
    "oov_tok = \"<!@#>\""
   ]
  },
  {
   "cell_type": "code",
   "execution_count": 40,
   "metadata": {},
   "outputs": [],
   "source": [
    "from tensorflow.keras.preprocessing.text import Tokenizer\n",
    "from tensorflow.keras.preprocessing.sequence import pad_sequences"
   ]
  },
  {
   "cell_type": "code",
   "execution_count": 41,
   "metadata": {},
   "outputs": [],
   "source": [
    "tokenizer = Tokenizer(num_words = vocab_size, oov_token=oov_tok)\n",
    "tokenizer.fit_on_texts(training_sentences)\n",
    "\n",
    "word_index = tokenizer.word_index\n",
    "\n",
    "sequences = tokenizer.texts_to_sequences(training_sentences)\n",
    "padded = pad_sequences(sequences,maxlen=max_length, truncating=trunc_type)"
   ]
  },
  {
   "cell_type": "code",
   "execution_count": 42,
   "metadata": {},
   "outputs": [],
   "source": [
    "testing_sequences = tokenizer.texts_to_sequences(testing_sentences)\n",
    "testing_padded = pad_sequences(testing_sequences,maxlen=max_length)"
   ]
  },
  {
   "cell_type": "code",
   "execution_count": 43,
   "metadata": {
    "tags": []
   },
   "outputs": [],
   "source": [
    "import tensorflow as tf "
   ]
  },
  {
   "cell_type": "code",
   "execution_count": 45,
   "metadata": {},
   "outputs": [],
   "source": [
    "model = tf.keras.Sequential([\n",
    "    tf.keras.layers.Embedding(vocab_size, embedding_dim, input_length=max_length),\n",
    "    tf.keras.layers.Flatten(),\n",
    "    tf.keras.layers.Dense(6, activation='relu'),\n",
    "    tf.keras.layers.Dense(1,activation='sigmoid')\n",
    "])"
   ]
  },
  {
   "cell_type": "code",
   "execution_count": 47,
   "metadata": {
    "tags": []
   },
   "outputs": [
    {
     "output_type": "stream",
     "name": "stdout",
     "text": "Model: \"sequential\"\n_________________________________________________________________\nLayer (type)                 Output Shape              Param #   \n=================================================================\nembedding (Embedding)        (None, 120, 16)           160000    \n_________________________________________________________________\nflatten (Flatten)            (None, 1920)              0         \n_________________________________________________________________\ndense (Dense)                (None, 6)                 11526     \n_________________________________________________________________\ndense_1 (Dense)              (None, 1)                 7         \n=================================================================\nTotal params: 171,533\nTrainable params: 171,533\nNon-trainable params: 0\n_________________________________________________________________\n"
    }
   ],
   "source": [
    "model.summary()"
   ]
  },
  {
   "cell_type": "code",
   "execution_count": 48,
   "metadata": {},
   "outputs": [],
   "source": [
    "model1 = tf.keras.Sequential([\n",
    "    tf.keras.layers.Embedding(vocab_size, embedding_dim, input_length=max_length),\n",
    "    tf.keras.layers.GlobalAveragePooling1D(),\n",
    "    tf.keras.layers.Dense(6,activation='relu'),\n",
    "    tf.keras.layers.Dense(1,activation='sigmoid')\n",
    "])"
   ]
  },
  {
   "cell_type": "code",
   "execution_count": 49,
   "metadata": {
    "tags": []
   },
   "outputs": [
    {
     "output_type": "stream",
     "name": "stdout",
     "text": "Model: \"sequential_1\"\n_________________________________________________________________\nLayer (type)                 Output Shape              Param #   \n=================================================================\nembedding_1 (Embedding)      (None, 120, 16)           160000    \n_________________________________________________________________\nglobal_average_pooling1d (Gl (None, 16)                0         \n_________________________________________________________________\ndense_2 (Dense)              (None, 6)                 102       \n_________________________________________________________________\ndense_3 (Dense)              (None, 1)                 7         \n=================================================================\nTotal params: 160,109\nTrainable params: 160,109\nNon-trainable params: 0\n_________________________________________________________________\n"
    }
   ],
   "source": [
    "model1.summary()"
   ]
  },
  {
   "cell_type": "code",
   "execution_count": 50,
   "metadata": {},
   "outputs": [],
   "source": [
    "model.compile(loss='binary_crossentropy', optimizer='adam', metrics=['accuracy'])"
   ]
  },
  {
   "cell_type": "code",
   "execution_count": 51,
   "metadata": {},
   "outputs": [],
   "source": [
    "model1.compile(loss='binary_crossentropy', optimizer='adam', metrics=['accuracy'])"
   ]
  },
  {
   "cell_type": "code",
   "execution_count": 52,
   "metadata": {
    "tags": []
   },
   "outputs": [
    {
     "output_type": "stream",
     "name": "stdout",
     "text": "Epoch 1/10\n782/782 [==============================] - 3s 4ms/step - loss: 0.5032 - accuracy: 0.7364 - val_loss: 0.3468 - val_accuracy: 0.8465\nEpoch 2/10\n782/782 [==============================] - 3s 4ms/step - loss: 0.2418 - accuracy: 0.9078 - val_loss: 0.3587 - val_accuracy: 0.8420\nEpoch 3/10\n782/782 [==============================] - 4s 5ms/step - loss: 0.0941 - accuracy: 0.9752 - val_loss: 0.4375 - val_accuracy: 0.8292\nEpoch 4/10\n782/782 [==============================] - 4s 6ms/step - loss: 0.0251 - accuracy: 0.9970 - val_loss: 0.5315 - val_accuracy: 0.8238\nEpoch 5/10\n782/782 [==============================] - 5s 6ms/step - loss: 0.0093 - accuracy: 0.9990 - val_loss: 0.5802 - val_accuracy: 0.8260\nEpoch 6/10\n782/782 [==============================] - 5s 6ms/step - loss: 0.0040 - accuracy: 0.9996 - val_loss: 0.6395 - val_accuracy: 0.8233\nEpoch 7/10\n782/782 [==============================] - 4s 5ms/step - loss: 0.0013 - accuracy: 1.0000 - val_loss: 0.6883 - val_accuracy: 0.8259\nEpoch 8/10\n782/782 [==============================] - 4s 5ms/step - loss: 5.2900e-04 - accuracy: 1.0000 - val_loss: 0.7258 - val_accuracy: 0.8262\nEpoch 9/10\n782/782 [==============================] - 3s 4ms/step - loss: 2.9078e-04 - accuracy: 1.0000 - val_loss: 0.7622 - val_accuracy: 0.8262\nEpoch 10/10\n782/782 [==============================] - 3s 4ms/step - loss: 1.7176e-04 - accuracy: 1.0000 - val_loss: 0.7994 - val_accuracy: 0.8264\n"
    },
    {
     "output_type": "execute_result",
     "data": {
      "text/plain": "<tensorflow.python.keras.callbacks.History at 0x14034c28e50>"
     },
     "metadata": {},
     "execution_count": 52
    }
   ],
   "source": [
    "model.fit(\n",
    "    padded,\n",
    "    training_labels_final,\n",
    "    epochs = 10,\n",
    "    validation_data=(testing_padded,testing_labels_final)\n",
    ")"
   ]
  },
  {
   "cell_type": "code",
   "execution_count": 53,
   "metadata": {
    "tags": []
   },
   "outputs": [
    {
     "output_type": "stream",
     "name": "stdout",
     "text": "Epoch 1/10\n782/782 [==============================] - 3s 4ms/step - loss: 0.5564 - accuracy: 0.7542 - val_loss: 0.3909 - val_accuracy: 0.8390\nEpoch 2/10\n782/782 [==============================] - 3s 4ms/step - loss: 0.3342 - accuracy: 0.8606 - val_loss: 0.3307 - val_accuracy: 0.8592\nEpoch 3/10\n782/782 [==============================] - 3s 4ms/step - loss: 0.2713 - accuracy: 0.8890 - val_loss: 0.3277 - val_accuracy: 0.8600\nEpoch 4/10\n782/782 [==============================] - 4s 5ms/step - loss: 0.2353 - accuracy: 0.9084 - val_loss: 0.3404 - val_accuracy: 0.8549\nEpoch 5/10\n782/782 [==============================] - 3s 4ms/step - loss: 0.2097 - accuracy: 0.9220 - val_loss: 0.3611 - val_accuracy: 0.8508\nEpoch 6/10\n782/782 [==============================] - 3s 4ms/step - loss: 0.1876 - accuracy: 0.9321 - val_loss: 0.3878 - val_accuracy: 0.8430\nEpoch 7/10\n782/782 [==============================] - 3s 4ms/step - loss: 0.1712 - accuracy: 0.9385 - val_loss: 0.4148 - val_accuracy: 0.8398\nEpoch 8/10\n782/782 [==============================] - 3s 4ms/step - loss: 0.1557 - accuracy: 0.9462 - val_loss: 0.4475 - val_accuracy: 0.8355\nEpoch 9/10\n782/782 [==============================] - 3s 4ms/step - loss: 0.1417 - accuracy: 0.9525 - val_loss: 0.4843 - val_accuracy: 0.8306\nEpoch 10/10\n782/782 [==============================] - 3s 4ms/step - loss: 0.1308 - accuracy: 0.9570 - val_loss: 0.5190 - val_accuracy: 0.8281\n"
    },
    {
     "output_type": "execute_result",
     "data": {
      "text/plain": "<tensorflow.python.keras.callbacks.History at 0x14035cfb6d0>"
     },
     "metadata": {},
     "execution_count": 53
    }
   ],
   "source": [
    "model1.fit(\n",
    "    padded,\n",
    "    training_labels_final,\n",
    "    epochs = 10,\n",
    "    validation_data=(testing_padded,testing_labels_final)\n",
    ")"
   ]
  },
  {
   "cell_type": "code",
   "execution_count": 54,
   "metadata": {
    "tags": []
   },
   "outputs": [
    {
     "output_type": "stream",
     "name": "stdout",
     "text": "? ? ? ? ? ? ? ? ? ? ? ? ? ? ? ? ? ? ? ? ? ? ? ? ? ? ? ? ? ? ? this is the kind of film for a snowy sunday afternoon when the rest of the world can go ahead with its own business as you <!@#> into a big arm chair and <!@#> for a couple of hours wonderful performances from cher and nicolas cage as always gently row the plot along there are no <!@#> to cross no dangerous waters just a warm and witty <!@#> through new york life at its best a family film in every sense and one that deserves the praise it received\nThis is the kind of film for a snowy Sunday afternoon when the rest of the world can go ahead with its own business as you descend into a big arm-chair and mellow for a couple of hours. Wonderful performances from Cher and Nicolas Cage (as always) gently row the plot along. There are no rapids to cross, no dangerous waters, just a warm and witty paddle through New York life at its best. A family film in every sense and one that deserves the praise it received.\n"
    }
   ],
   "source": [
    "reverse_word_index = dict([(value, key) for (key, value) in word_index.items()])\n",
    "\n",
    "def decode_review(text):\n",
    "    return ' '.join([reverse_word_index.get(i, '?') for i in text])\n",
    "\n",
    "print(decode_review(padded[3]))\n",
    "print(training_sentences[3])"
   ]
  },
  {
   "cell_type": "code",
   "execution_count": 55,
   "metadata": {
    "tags": []
   },
   "outputs": [
    {
     "output_type": "stream",
     "name": "stdout",
     "text": "[[11, 64, 102, 12, 7, 478, 1200]]\n"
    }
   ],
   "source": [
    "sentence = \"I really think this is amazing. honest.\"\n",
    "sequence = tokenizer.texts_to_sequences([sentence])\n",
    "print(sequence)"
   ]
  },
  {
   "cell_type": "code",
   "execution_count": 56,
   "metadata": {
    "tags": []
   },
   "outputs": [
    {
     "output_type": "stream",
     "name": "stdout",
     "text": "(10000, 16)\n"
    }
   ],
   "source": [
    "e = model.layers[0]\n",
    "weights = e.get_weights()[0]\n",
    "print(weights.shape)"
   ]
  },
  {
   "cell_type": "code",
   "execution_count": null,
   "metadata": {},
   "outputs": [],
   "source": []
  }
 ]
}